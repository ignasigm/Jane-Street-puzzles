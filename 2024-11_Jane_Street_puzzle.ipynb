{
  "nbformat": 4,
  "nbformat_minor": 0,
  "metadata": {
    "colab": {
      "provenance": []
    },
    "kernelspec": {
      "name": "python3",
      "display_name": "Python 3"
    },
    "language_info": {
      "name": "python"
    }
  },
  "cells": [
    {
      "cell_type": "markdown",
      "source": [
        "# Beside The Point (2024 November Jane Street puzzle)\n",
        "\n",
        "https://www.janestreet.com/puzzles/beside-the-point-index/"
      ],
      "metadata": {
        "id": "V_VF4vSoDkb3"
      }
    },
    {
      "cell_type": "markdown",
      "source": [
        "## 0. The Solution\n",
        "\n",
        "We consider the unit square $S = (0,1)^2$. After an appropriate rotation, we may assume that the blue point lies in the region $\\{ (x,y) \\in S : 0 < x < \\tfrac{1}{2},\\; 0 < y < x \\}$. In the end, we will multiply the result by $8$ to account for symmetry.\n",
        "\n",
        "Given a blue point $(x,y)$ in this region, define  \n",
        "$$\n",
        "\\begin{aligned}\n",
        "A_1 &= S \\cap B((0,0), (x^2 + y^2)^{1/2}),\\\\\n",
        "A_2 &= S \\cap B((1,0), (1-x)^2 + y^2)^{1/2}),\\\\\n",
        "A_3 &= A_1 \\cap A_2,\n",
        "\\end{aligned}\n",
        "$$\n",
        "where $B(p,r)$ denotes the open ball centered at $p$ with radius $r$.\n",
        "\n",
        "The red point must lie in $(A_1 \\cup A_2) \\setminus A_3$ so that there exists a point on the lower side of the square that is equidistant from both the red and blue points.\n",
        "\n",
        "The area of this region, as a function of $x$ and $y$, is  \n",
        "$$\n",
        "A(x,y) = \\frac{\\pi}{4} (x^2+y^2) + \\frac{\\pi}{4} ((1-x)^2+y^2)\n",
        "- 2 \\cdot \\left( \\frac{\\arctan \\frac{y}{x}}{2} (x^2+y^2) - \\frac{xy}{2} \\right)\n",
        "- 2 \\cdot \\left( \\frac{\\arctan \\frac{y}{1-x}}{2} (x^2+y^2) - \\frac{(1-x)y}{2} \\right).\n",
        "$$\n",
        "\n",
        "Finally, the desired probability is  \n",
        "$$\n",
        "P = 8 \\int_0^{1/2} \\int_0^x A(x,y)\\, dy\\, dx,\n",
        "$$\n",
        "which evaluates (after running the code below) to  \n",
        "$$\n",
        "P = \\frac{1}{12} + \\frac{\\pi}{6} - \\frac{\\log 2}{6} \\sim 0.4914075788.\n",
        "$$\n"
      ],
      "metadata": {
        "id": "Lp6j0fXwNpoo"
      }
    },
    {
      "cell_type": "code",
      "source": [
        "import sympy as sp\n",
        "\n",
        "# Define symbols\n",
        "x, y = sp.symbols('x y', positive=True, real=True)\n",
        "\n",
        "# Define the integrand\n",
        "circle0 = sp.pi * (x**2 + y**2) / 4\n",
        "circle1 = sp.pi * ((1 - x)**2 + y**2) / 4\n",
        "slice0 = sp.Rational(1,2) * (x**2 + y**2) * sp.atan(y/x) - x*y/2\n",
        "slice1 = sp.Rational(1,2) * ((1 - x)**2 + y**2) * sp.atan(y/(1 - x)) - (1-x)*y/2\n",
        "\n",
        "integrand = 8 * (circle0 + circle1 - 2*slice0 - 2*slice1)\n",
        "\n",
        "# Perform the double integral: ∫₀^{1/2} ∫₀ˣ integrand dy dx\n",
        "inner_integral = sp.integrate(integrand, (y, 0, x))\n",
        "result = sp.integrate(inner_integral, (x, 0, sp.Rational(1, 2)))\n",
        "\n",
        "# Print symbolic result and numerical approximation\n",
        "print(f\"SOLUTION:\\n\\033[1;92mProbability = {sp.simplify(result)} = {sp.N(result):.10f}...\\033[0m\")"
      ],
      "metadata": {
        "colab": {
          "base_uri": "https://localhost:8080/"
        },
        "id": "Xu_2D9JId_5b",
        "outputId": "b53eb328-6519-4b4c-dba3-986a9c9a8252"
      },
      "execution_count": null,
      "outputs": [
        {
          "output_type": "stream",
          "name": "stdout",
          "text": [
            "SOLUTION:\n",
            "\u001b[1;92mProbability = -log(2)/6 + 1/12 + pi/6 = 0.4914075788...\u001b[0m\n"
          ]
        }
      ]
    },
    {
      "cell_type": "code",
      "source": [],
      "metadata": {
        "id": "LqBC9LUeOxnW"
      },
      "execution_count": null,
      "outputs": []
    }
  ]
}
