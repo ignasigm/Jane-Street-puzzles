{
  "nbformat": 4,
  "nbformat_minor": 0,
  "metadata": {
    "colab": {
      "provenance": []
    },
    "kernelspec": {
      "name": "python3",
      "display_name": "Python 3"
    },
    "language_info": {
      "name": "python"
    }
  },
  "cells": [
    {
      "cell_type": "markdown",
      "source": [
        "# Sum One, Somewhere (2025 April Jane Street puzzle)\n",
        "\n",
        "Statement: https://www.janestreet.com/puzzles/sum-one-somewhere-index/"
      ],
      "metadata": {
        "id": "tiK2-itmkQtF"
      }
    },
    {
      "cell_type": "markdown",
      "source": [
        "# 0. The Solution\n",
        "\n",
        "For $p \\in (0,1)$, we define  \n",
        "$$\n",
        "x = x(p) = P(\\text{there exists an infinite path whose sum is at most } 1).\n",
        "$$  \n",
        "\n",
        "Our goal is to find $p$ such that $x(p) = \\tfrac{1}{2}$.\n",
        "\n",
        "---\n",
        "\n",
        "### Step 1. Definition of $y$\n",
        "\n",
        "We first define  \n",
        "$$\n",
        "y = y(p) = P(\\text{there exists an infinite path consisting entirely of zeros}).\n",
        "$$  \n",
        "This quantity will be useful in computing $x$.\n",
        "\n",
        "Before computing $y$, let us define  \n",
        "$$\n",
        "z = z(p) = P(\\text{at least one of the two subtrees has an infinite path of all zeros}).\n",
        "$$  \n",
        "\n",
        "For a tree to have an infinite all-zero path, the root must be zero (probability $p$), and at least one of its two subtrees must also have such a path (probability $z$). Therefore,  \n",
        "$$\n",
        "y = pz.\n",
        "$$\n",
        "\n",
        "---\n",
        "\n",
        "### Step 2. Relation between $z$ and $y$\n",
        "\n",
        "We can express $z$ in terms of $y$:  \n",
        "$$\n",
        "\\begin{aligned}\n",
        "z &= 1 - P(\\text{neither subtree has an infinite all-zero path}) \\\\\n",
        "  &= 1 - P(\\text{a tree does not have an all-zero path})^2 \\\\\n",
        "  &= 1 - (1 - y)^2 = 2y - y^2.\n",
        "\\end{aligned}\n",
        "$$  \n",
        "\n",
        "Substituting this into $y = pz$, we obtain  \n",
        "$$\n",
        "y = p(2y - y^2),\n",
        "$$  \n",
        "which simplifies to  \n",
        "$$\n",
        "y = \\max\\left\\{2 - \\frac{1}{p},\\, 0\\right\\}.\n",
        "$$\n",
        "\n",
        "---\n",
        "\n",
        "### Step 3. Computing $x$\n",
        "\n",
        "To have an infinite path whose sum is at most $1$, either:\n",
        "\n",
        "1. The **root is $1$** (probability $1-p$) and **one of the two subtrees** has an infinite all-zero path (probability $z = 2y - y^2$), or  \n",
        "2. The **root is $0$** (probability $p$) and **one of the two subtrees** has an infinite path whose sum is at most $1$.\n",
        "\n",
        "Arguing as before,  \n",
        "$$\n",
        "P(\\text{one of the two subtrees has an infinite path with sum at most 1})\n",
        "= 1 - (1 - x)^2 = 2x - x^2.\n",
        "$$  \n",
        "Hence,  \n",
        "$$\n",
        "x = (1-p)(2y - y^2) + p(2x - x^2).\n",
        "$$\n",
        "\n",
        "---\n",
        "\n",
        "### Step 4. Solving for $x = \\tfrac{1}{2}$\n",
        "\n",
        "We impose $x = \\tfrac{1}{2}$.\n",
        "\n",
        "- **Case 1:** If $p < \\tfrac{1}{2}$, then $y = 0$, so the previous equation becomes  \n",
        "  $$\n",
        "  \\frac{1}{2} = \\frac{3}{4}p,\n",
        "  $$  \n",
        "  which gives $p = \\tfrac{2}{3}$. This contradicts the assumption $p < \\tfrac{1}{2}$.\n",
        "\n",
        "- **Case 2:** Therefore, we must have $p \\ge \\tfrac{1}{2}$, and hence $y = 2 - \\tfrac{1}{p}$. Substituting into the equation for $x$ yields:  \n",
        "$$\n",
        "\\frac{1}{2} = (1-p)\\frac{2p - 1}{p^2} + \\frac{3}{4}p.\n",
        "$$  \n",
        "Equivalently, $p$ satisfies  \n",
        "$$\n",
        "3p^3 - 10p^2 + 12p - 4 = 0.\n",
        "$$\n",
        "\n",
        "---\n",
        "\n",
        "### Step 5. The value of $p$\n",
        "\n",
        "Wolframalpha gives that the unique real root is\n",
        "$$\n",
        "p = \\frac{1}{9}\\left( 10 - \\frac{(4 \\cdot 2^{2/3})}{(9 \\cdot 57^{1/2} - 67)^{1/3}} + (2 (9 \\cdot 57^{1/2} - 67))^{1/3} \\right),\n",
        "$$\n",
        "which is approximately $0.5306035754$.\n",
        "\n",
        "Alternatively, the following code provides a sufficiently accurate numerical approximation."
      ],
      "metadata": {
        "id": "qvPfT-Rj1BDf"
      }
    },
    {
      "cell_type": "code",
      "execution_count": 18,
      "metadata": {
        "colab": {
          "base_uri": "https://localhost:8080/"
        },
        "id": "6MUJFnGikONg",
        "outputId": "0d0ca529-1bd0-49ff-f3fc-ddf6bd5b92e7"
      },
      "outputs": [
        {
          "output_type": "stream",
          "name": "stdout",
          "text": [
            "Roots of the equation 3p^3 - 10p^2 + 12p - 4 = 0 are:\n",
            "(0.530603575430005+0j)\n",
            "(1.4013648789516633-0.7409710153124811j)\n",
            "(1.4013648789516633+0.7409710153124811j)\n",
            "\n",
            "SOLUTION:\n",
            "\u001b[1;32mThe value of p \u001b[0m(that is, the real root of the equation 3p^3 - 10p^2 + 12p - 4 = 0)\u001b[1;32m is 0.530603575430005\u001b[0m.\n"
          ]
        }
      ],
      "source": [
        "from numpy.polynomial import Polynomial\n",
        "\n",
        "# Define the polynomial: coefficients in increasing order of degree\n",
        "# 3p^3 - 10p^2 + 12p - 4  →  [-4, 12, -10, 3]\n",
        "p = Polynomial([-4, 12, -10, 3])\n",
        "\n",
        "# Compute the roots\n",
        "roots = p.roots()\n",
        "\n",
        "# Display all roots (one real and two complex)\n",
        "print(\"Roots of the equation 3p^3 - 10p^2 + 12p - 4 = 0 are:\")\n",
        "for r in roots:\n",
        "    print(r)\n",
        "\n",
        "# Extract the real root (imaginary part very small)\n",
        "real_root = [r.real for r in roots if abs(r.imag) < 1e-8][0]\n",
        "\n",
        "# Display the result\n",
        "print()\n",
        "print(\"SOLUTION:\")\n",
        "print(f\"\\033[1;32mThe value of p \\033[0m(that is, the real root of the equation 3p^3 - 10p^2 + 12p - 4 = 0)\\033[1;32m is {real_root}\\033[0m.\")"
      ]
    },
    {
      "cell_type": "code",
      "source": [],
      "metadata": {
        "id": "kQuGOSAM6Pcf"
      },
      "execution_count": null,
      "outputs": []
    }
  ]
}
