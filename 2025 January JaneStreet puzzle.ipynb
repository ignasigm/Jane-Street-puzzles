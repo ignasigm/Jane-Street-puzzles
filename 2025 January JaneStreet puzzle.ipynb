{
  "nbformat": 4,
  "nbformat_minor": 0,
  "metadata": {
    "colab": {
      "provenance": []
    },
    "kernelspec": {
      "name": "python3",
      "display_name": "Python 3"
    },
    "language_info": {
      "name": "python"
    }
  },
  "cells": [
    {
      "cell_type": "markdown",
      "source": [
        "# Somewhat Square Sudoku (2025 January puzzle Janestreet)\n",
        "\n",
        "Statement: https://www.janestreet.com/puzzles/somewhat-square-sudoku-index/\n",
        "\n",
        "Janestreet solution: https://www.janestreet.com/puzzles/somewhat-square-sudoku-solution/"
      ],
      "metadata": {
        "id": "aFTuT8t3GiIc"
      }
    },
    {
      "cell_type": "markdown",
      "source": [
        "# 0. The Solution Method\n",
        "\n",
        "For each digit $r \\in \\{1,3,4,6,7,8,9\\}$ (we cannot remove 0, 2, 5), let $D_r$ denote the largest possible GCD of the 9-digit numbers formed by the rows in a completed Sudoku puzzle that does not use the digit $r$.. Our goal is to find the maximum value among these,\n",
        "$$\n",
        "D := \\max_{r \\in \\{1,3,4,6,7,8,9\\}} D_r,\n",
        "$$\n",
        "and to identify a corresponding Sudoku puzzle that achieves this value.\n",
        "\n",
        "We proceed by fixing a digit $r$. Since $D_r$ divides every row sum in such a Sudoku, it must also divide the total sum of all rows. This total sum is $111,111,111 \\times (45 - r)$, because the sum of digits 0 through 9 is 45, and we are omitting $r$. In other words,\n",
        "$$\n",
        "D_r \\mid 111,111,111 \\times (45 - r).\n",
        "$$\n",
        "Therefore, $D_r$ must be a divisor of $111,111,111 \\times (45 - r)$.\n",
        "\n",
        "Our method is as follows:\n",
        "\n",
        "1. For each $r\\in \\{1,3,4,6,7,8,9\\}$, we enumerate all divisors of $111,111,111 \\times (45 - r)$.\n",
        "2. For each divisor, we check if it could be the GCD of a Sudoku row. A valid row would be an 8-digit number (since the first cell is 0) with all digits distinct, containing the digits 2 and 5 (which are always present), and excluding 0 as a leading digit and $r$ entirely. If a divisor cannot form such a number, we discard it as a candidate for $D_r$.\n",
        "3. We store the remaining candidate divisors along with their associated $r$.\n",
        "4. We then sort these (divisor, $r$) pairs in descending order by the divisor, omitting 1, as any completed Sudoku has a GCD of at least 1.\n",
        "\n",
        "Finally, we attempt to solve for a Sudoku puzzle that does not use the digit $r$ and where every completed row is a multiple of the current candidate divisor. Since we process the candidates in descending order, the first valid Sudoku we find must have the maximum possible GCD, $D$. This is because any larger GCD would have been a divisor of $111,111,111 \\times (45 - r)$ and would have been listed earlier."
      ],
      "metadata": {
        "id": "L2cX17O7BTib"
      }
    },
    {
      "cell_type": "code",
      "source": [
        "import math"
      ],
      "metadata": {
        "id": "-0ae0V-8URFe"
      },
      "execution_count": 6,
      "outputs": []
    },
    {
      "cell_type": "code",
      "source": [
        "box_i = {(r, c): (r // 3) * 3 + (c // 3) for r in range(9) for c in range(9)}\n",
        "\n",
        "# Pre-filled cells (initial given values)\n",
        "given = {\n",
        "    (0, 7): 2,\n",
        "    (1, 8): 5,\n",
        "    (2, 1): 2,\n",
        "    (3, 2): 0,\n",
        "    (5, 3): 2,\n",
        "    (6, 4): 0,\n",
        "    (7, 5): 2,\n",
        "    (8, 6): 5\n",
        "}"
      ],
      "metadata": {
        "id": "5RVdB6ny1mIf"
      },
      "execution_count": 7,
      "outputs": []
    },
    {
      "cell_type": "code",
      "source": [
        "GREEN = \"\\033[92m\"  # bright green\n",
        "BLUE = \"\\033[94m\"   # bright blue\n",
        "RED  = \"\\033[91m\"   # bright red\n",
        "RESET = \"\\033[0m\"\n",
        "\n",
        "def printing_grid(grid, is_sol=False):\n",
        "    for i, row in enumerate(grid):\n",
        "        parts = []\n",
        "        for j, val in enumerate(row):\n",
        "            s = \".\" if val == -1 else str(val)\n",
        "\n",
        "            #given (red) overrides row-blue\n",
        "            if (i, j) in given:\n",
        "                s = f\"{RED}{s}{RESET}\"\n",
        "            elif i == 4 and is_sol:\n",
        "                s = f\"{BLUE}{s}{RESET}\"\n",
        "\n",
        "            parts.append(s)\n",
        "\n",
        "            #vertical separator every 3 numbers, except at the end\n",
        "            if (j + 1) % 3 == 0 and j < 8:\n",
        "                parts.append(\"|\")\n",
        "\n",
        "        line = \" \".join(parts)\n",
        "\n",
        "        #horizontal separator every 3 rows, except at the end\n",
        "        if i > 0 and i % 3 == 0:\n",
        "            #Build horizontal line matching the 3x3 boxes\n",
        "            horiz_line = \"------+-------+------\"\n",
        "            print(horiz_line)\n",
        "\n",
        "        print(line)"
      ],
      "metadata": {
        "id": "NI1mfV-a9gnr"
      },
      "execution_count": 8,
      "outputs": []
    },
    {
      "cell_type": "code",
      "source": [
        "def remove_and_search(rem,gcd):\n",
        "\n",
        "    # --------------------------\n",
        "    # Setup\n",
        "    # --------------------------\n",
        "    print_every_N = 100_000\n",
        "    total_sudoku = 0\n",
        "\n",
        "    # Track used digits in rows, cols, blocks for O(1) checking\n",
        "    row_used = {r:set() for r in range(9)}\n",
        "    col_used = {c:set() for c in range(9)}\n",
        "    box_used = {b:set() for b in range(9)}\n",
        "\n",
        "    # Construct the grid\n",
        "    grid = [[-1 for _ in range(9)] for _ in range(9)]\n",
        "\n",
        "    for (r, c), v in given.items():\n",
        "        # fill the grid\n",
        "        grid[r][c] = v\n",
        "        # fill used sets\n",
        "        row_used[r].add(v)\n",
        "        col_used[c].add(v)\n",
        "        box_used[box_i[(r, c)]].add(v)\n",
        "\n",
        "    # we are searching a sudoku without the digit 'rem'\n",
        "    candidates = [x for x in range(10) if x!=rem]\n",
        "\n",
        "    def row_number(row): #only called when a row is completed\n",
        "        n = 0\n",
        "        for v in row:\n",
        "            n = n * 10 + v\n",
        "        return n\n",
        "\n",
        "    def solveSudoku(grid, r=0, c=0):\n",
        "        # End of grid\n",
        "        if r == 9:\n",
        "            row_val = row_number(grid[-1])\n",
        "            #we've reached this point only if all previous rows are multiples of gcd\n",
        "            if row_val % gcd == 0: #check if it is also a multiple of gcd\n",
        "                print(\"...\")\n",
        "                print(f\"{GREEN}✅ SOLUTION FOUND!!{RESET} When removing {rem} with gcd={gcd}.\")\n",
        "                printing_grid(grid,is_sol=True)\n",
        "                print(\"...\")\n",
        "                return True\n",
        "            return False\n",
        "\n",
        "        # End of row\n",
        "        if c == 9:\n",
        "            row_val = row_number(grid[r])\n",
        "            if row_val % gcd != 0: #stop if current row is not a multiple of gcd\n",
        "                return False\n",
        "            return solveSudoku(grid, r + 1, 0)\n",
        "\n",
        "        # Skip filled cell\n",
        "        if grid[r][c] > -1:\n",
        "            return solveSudoku(grid, r, c + 1)\n",
        "\n",
        "        box = box_i[(r, c)]\n",
        "        for num in candidates:\n",
        "            if num not in row_used[r] and num not in col_used[c] and num not in box_used[box]:\n",
        "                grid[r][c] = num\n",
        "                row_used[r].add(num)\n",
        "                col_used[c].add(num)\n",
        "                box_used[box].add(num)\n",
        "\n",
        "                if solveSudoku(grid, r, c + 1):\n",
        "                    return True  #early stop when the solution is found\n",
        "\n",
        "                grid[r][c] = -1\n",
        "                row_used[r].remove(num)\n",
        "                col_used[c].remove(num)\n",
        "                box_used[box].remove(num)\n",
        "\n",
        "        return False\n",
        "\n",
        "    found = solveSudoku(grid)\n",
        "    if not found:\n",
        "        print(f\"No solution found for (gcd,rem)=({gcd},{rem}).\")\n",
        "    return found\n"
      ],
      "metadata": {
        "id": "dTOFQJKlUI5Q"
      },
      "execution_count": 9,
      "outputs": []
    },
    {
      "cell_type": "code",
      "source": [
        "# A function to print all prime factors of\n",
        "# a given number n\n",
        "def primeFactors(n):\n",
        "    sol = []\n",
        "    # Count and store all factors of 2\n",
        "    while n % 2 == 0:\n",
        "        sol.append(2)\n",
        "        n = n // 2\n",
        "\n",
        "    # n is now odd - check only odd divisors from 3 onward\n",
        "    for i in range(3,int(math.sqrt(n))+1,2):\n",
        "\n",
        "        # While i divides n, store i and divide n\n",
        "        while n % i== 0:\n",
        "            sol.append(i)\n",
        "            n = n // i\n",
        "\n",
        "    # Condition if n is a prime\n",
        "    # number greater than 2\n",
        "    if n > 2:\n",
        "        sol.append(n)\n",
        "    return sol\n",
        "\n",
        "def get_divisors(n):\n",
        "    divisors = []\n",
        "    if n == 1:\n",
        "        divisors.append(1)\n",
        "    elif n > 1:\n",
        "        prime_factors = primeFactors(n)\n",
        "        divisors = [1]\n",
        "        last_prime = 0\n",
        "        factor = 0\n",
        "        slice_len = 0\n",
        "        # Generate all divisors from prime factors\n",
        "        for prime in prime_factors:\n",
        "            if last_prime != prime:\n",
        "                slice_len = len(divisors)\n",
        "                factor = prime\n",
        "            else:\n",
        "                factor *= prime\n",
        "            for i in range(slice_len):\n",
        "                divisors.append(divisors[i] * factor)\n",
        "            last_prime = prime\n",
        "        divisors.sort()\n",
        "    return divisors"
      ],
      "metadata": {
        "id": "4t3OrM4XKLWX"
      },
      "execution_count": 10,
      "outputs": []
    },
    {
      "cell_type": "code",
      "source": [
        "S_tot = 45 #this is 0+1+2+...+9\n",
        "\n",
        "all_possible_gcd = []\n",
        "\n",
        "for rem in [1,3,4,6,7,8,9]:\n",
        "    S = S_tot - rem\n",
        "    #sorted in decreasing order\n",
        "    #Skip divisor 1 since any valid sudoku row would have GCD at least 1\n",
        "    divisors = get_divisors(111111111*S)[1:]\n",
        "\n",
        "    for d in divisors:\n",
        "        if d<=98765432:\n",
        "            all_possible_gcd.append((d,rem))\n",
        "        else:\n",
        "            break\n",
        "\n",
        "all_possible_gcd.sort(key=lambda x: x[0], reverse=True)\n",
        "\n",
        "for gcd, rem in all_possible_gcd:\n",
        "    k=1\n",
        "    search_sol = False\n",
        "    while k*gcd<=98765432 and not search_sol: # Ensure the number has at most 8 digits (since one row must start with 0)\n",
        "        # Check if all the numbers are all different, and 2,5 are in the number\n",
        "        # No '0' in s because we require an 8-digit number (leading zero)\n",
        "        s = str(k*gcd)\n",
        "        if len(s) == 8 and len(set(s)) == 8 and '2' in s and '5' in s and str(rem) not in s:\n",
        "            search_sol = True\n",
        "        k+=1\n",
        "    if search_sol:\n",
        "        print(f\"... Searching for (gcd,rem)=({gcd},{rem})\")\n",
        "        if remove_and_search(rem,gcd):\n",
        "            break\n"
      ],
      "metadata": {
        "colab": {
          "base_uri": "https://localhost:8080/"
        },
        "id": "pVg0FKvZIrCT",
        "outputId": "1e12bc5d-3f5d-4ed1-d23a-ab8ad6b9aad9"
      },
      "execution_count": 12,
      "outputs": [
        {
          "output_type": "stream",
          "name": "stdout",
          "text": [
            "... Searching for (gcd,rem)=(49382716,1)\n",
            "No solution found for (gcd,rem)=(49382716,1).\n",
            "... Searching for (gcd,rem)=(24691358,1)\n",
            "No solution found for (gcd,rem)=(24691358,1).\n",
            "... Searching for (gcd,rem)=(24691358,7)\n",
            "No solution found for (gcd,rem)=(24691358,7).\n",
            "... Searching for (gcd,rem)=(12345679,1)\n",
            "No solution found for (gcd,rem)=(12345679,1).\n",
            "... Searching for (gcd,rem)=(12345679,4)\n",
            "...\n",
            "\u001b[92m✅ SOLUTION FOUND!!\u001b[0m When removing 4 with gcd=12345679.\n",
            "3 9 5 | 0 6 1 | 7 \u001b[91m2\u001b[0m 8\n",
            "0 6 1 | 7 2 8 | 3 9 \u001b[91m5\u001b[0m\n",
            "7 \u001b[91m2\u001b[0m 8 | 3 9 5 | 0 6 1\n",
            "------+-------+------\n",
            "9 5 \u001b[91m0\u001b[0m | 6 1 7 | 2 8 3\n",
            "\u001b[94m2\u001b[0m \u001b[94m8\u001b[0m \u001b[94m3\u001b[0m | \u001b[94m9\u001b[0m \u001b[94m5\u001b[0m \u001b[94m0\u001b[0m | \u001b[94m6\u001b[0m \u001b[94m1\u001b[0m \u001b[94m7\u001b[0m\n",
            "6 1 7 | \u001b[91m2\u001b[0m 8 3 | 9 5 0\n",
            "------+-------+------\n",
            "8 3 9 | 5 \u001b[91m0\u001b[0m 6 | 1 7 2\n",
            "5 0 6 | 1 7 \u001b[91m2\u001b[0m | 8 3 9\n",
            "1 7 2 | 8 3 9 | \u001b[91m5\u001b[0m 0 6\n",
            "...\n"
          ]
        }
      ]
    },
    {
      "cell_type": "code",
      "source": [],
      "metadata": {
        "id": "Je4SjpRZhzcr"
      },
      "execution_count": null,
      "outputs": []
    }
  ]
}
